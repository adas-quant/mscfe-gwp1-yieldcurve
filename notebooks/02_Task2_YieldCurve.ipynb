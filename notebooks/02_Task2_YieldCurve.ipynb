{
  "nbformat": 4,
  "nbformat_minor": 0,
  "metadata": {
    "colab": {
      "provenance": [],
      "authorship_tag": "ABX9TyOxHRuP/5UN3t34DyO/DU9r",
      "include_colab_link": true
    },
    "kernelspec": {
      "name": "python3",
      "display_name": "Python 3"
    },
    "language_info": {
      "name": "python"
    }
  },
  "cells": [
    {
      "cell_type": "markdown",
      "metadata": {
        "id": "view-in-github",
        "colab_type": "text"
      },
      "source": [
        "<a href=\"https://colab.research.google.com/github/adas-quant/mscfe-gwp1-yieldcurve/blob/arindam-task2/notebooks/02_Task2_YieldCurve.ipynb\" target=\"_parent\"><img src=\"https://colab.research.google.com/assets/colab-badge.svg\" alt=\"Open In Colab\"/></a>"
      ]
    },
    {
      "cell_type": "markdown",
      "source": [
        "# Task 2 — Yield Curve Modeling\n",
        "\n",
        "## Objective\n",
        "- Pick government securities from one country(India)\n",
        "- Fit Nelson-Siegel model.\n",
        "- Fit Cubic-Spline model.\n",
        "- Compare models in terms of fit & interpretation.\n",
        "- Discuss smoothing vs. ethics.\n"
      ],
      "metadata": {
        "id": "-1YnnjfHNp7l"
      }
    },
    {
      "cell_type": "code",
      "source": [
        "import pandas as pd\n",
        "\n",
        "# Example: scrape CCIL tenor-wise yields (they might publish via HTML table)\n",
        "url = \"https://www.ccilindia.com/web/ccil/tenorwise-indicative-yields\"\n",
        "tables = pd.read_html(url)   # this yields a list of DataFrames\n",
        "for i, tab in enumerate(tables):\n",
        "    print(\"Table\", i)\n",
        "    print(tab.head())\n"
      ],
      "metadata": {
        "id": "SP2oDRXeOSWp",
        "outputId": "36163250-928e-469f-9a5e-217d7ec80d9a",
        "colab": {
          "base_uri": "https://localhost:8080/"
        }
      },
      "execution_count": 1,
      "outputs": [
        {
          "output_type": "stream",
          "name": "stdout",
          "text": [
            "Table 0\n",
            "                    Date Tenor Bucket              Security  YTM (%)\n",
            "0  2025-10-01 00:00:00.0          91D   91 DTB (02/01/2026)   5.4881\n",
            "1  2025-10-01 00:00:00.0         182D  182 DTB (03/04/2026)   5.5899\n",
            "2  2025-10-01 00:00:00.0         364D  364 DTB (02/10/2026)   5.5999\n",
            "3  2025-10-01 00:00:00.0        1Y-2Y         7.38% GS 2027   5.7975\n",
            "4  2025-10-01 00:00:00.0        4Y-5Y         6.01% GS 2030   6.1500\n"
          ]
        }
      ]
    },
    {
      "cell_type": "code",
      "source": [
        "import pandas as pd\n",
        "\n",
        "# CCIL tenor-wise yields URL\n",
        "url = \"https://www.ccilindia.com/web/ccil/tenorwise-indicative-yields\"\n",
        "\n",
        "# Read all HTML tables\n",
        "tables = pd.read_html(url)\n",
        "\n",
        "# Pick the first table (the one with yields)\n",
        "table = tables[0]\n",
        "\n",
        "# Display full table without truncation\n",
        "pd.set_option(\"display.max_rows\", None)\n",
        "pd.set_option(\"display.max_columns\", None)\n",
        "pd.set_option(\"display.width\", None)\n",
        "\n",
        "print(table)\n"
      ],
      "metadata": {
        "id": "BeZDU1TyOZqx",
        "outputId": "5938871a-a668-407e-e509-27d7ff37a798",
        "colab": {
          "base_uri": "https://localhost:8080/"
        }
      },
      "execution_count": 2,
      "outputs": [
        {
          "output_type": "stream",
          "name": "stdout",
          "text": [
            "                     Date Tenor Bucket                Security  YTM (%)\n",
            "0   2025-10-03 00:00:00.0          91D     91 DTB (02/01/2026)   5.4881\n",
            "1   2025-10-03 00:00:00.0         182D    182 DTB (03/04/2026)   5.5899\n",
            "2   2025-10-03 00:00:00.0         364D    364 DTB (02/10/2026)   5.5999\n",
            "3   2025-10-03 00:00:00.0        1Y-2Y           7.38% GS 2027   5.6511\n",
            "4   2025-10-03 00:00:00.0        4Y-5Y           6.01% GS 2030   6.1066\n",
            "5   2025-10-03 00:00:00.0       9Y-10Y           6.33% GS 2035   6.5104\n",
            "6   2025-10-03 00:00:00.0      13Y-15Y           6.68% GS 2040   6.8047\n",
            "7   2025-10-03 00:00:00.0      28Y-30Y           7.24% GS 2055   7.1218\n",
            "8   2025-10-03 00:00:00.0           5Y  7.30% UTTARAKHAND 2032   7.3000\n",
            "9   2025-10-03 00:00:00.0          10Y          7.37% GOA 2036   7.3700\n",
            "10  2025-10-03 00:00:00.0          15Y       7.49% KERALA 2040   7.4900\n"
          ]
        }
      ]
    },
    {
      "cell_type": "code",
      "source": [],
      "metadata": {
        "id": "g2ilY3JHS2_f"
      },
      "execution_count": null,
      "outputs": []
    }
  ]
}